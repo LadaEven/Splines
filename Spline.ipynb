{
 "cells": [
  {
   "cell_type": "code",
   "execution_count": 1,
   "metadata": {
    "collapsed": true
   },
   "outputs": [],
   "source": [
    "import numpy as np"
   ]
  },
  {
   "cell_type": "code",
   "execution_count": 2,
   "metadata": {
    "collapsed": true
   },
   "outputs": [],
   "source": [
    "pillars_amt = 10"
   ]
  },
  {
   "cell_type": "code",
   "execution_count": 3,
   "metadata": {
    "collapsed": true
   },
   "outputs": [],
   "source": [
    "interpolate_data = np.random.random_sample(pillars_amt)"
   ]
  },
  {
   "cell_type": "code",
   "execution_count": 4,
   "metadata": {},
   "outputs": [
    {
     "data": {
      "image/png": "[encoded data removed]",
      "text/plain": [
       "<matplotlib.figure.Figure at 0x25198a9b710>"
      ]
     },
     "metadata": {},
     "output_type": "display_data"
    }
   ],
   "source": [
    "# https://docs.scipy.org/doc/scipy/reference/generated/scipy.interpolate.CubicSpline.html\n",
    "\n",
    "from scipy.interpolate import CubicSpline\n",
    "import matplotlib.pyplot as plt\n",
    "x = np.arange(10)\n",
    "cs = CubicSpline(x, interpolate_data)\n",
    "xs = np.arange(-0.5, 9.6, 0.1)\n",
    "fig, ax = plt.subplots(figsize=(6.5, 4))\n",
    "ax.plot(x, interpolate_data, 'o', label='data')\n",
    "ax.plot(xs, cs(xs), label=\"S\")\n",
    "ax.set_xlim(-0.5, 9.5)\n",
    "ax.legend(loc='lower left', ncol=2)\n",
    "plt.show()"
   ]
  },
  {
   "cell_type": "code",
   "execution_count": 5,
   "metadata": {
    "collapsed": true
   },
   "outputs": [],
   "source": [
    "poly_coefficients =  np.zeros((pillars_amt -1 , 4))"
   ]
  },
  {
   "cell_type": "markdown",
   "metadata": {},
   "source": [
    "Построим по известному значению в начале и конце и по условию Нулёвости вторых производных в начале и в конце\n",
    "и с2 условию на переходах для двух интервалов решение."
   ]
  },
  {
   "cell_type": "code",
   "execution_count": 8,
   "metadata": {},
   "outputs": [],
   "source": [
    "y1 = np.random.random()\n",
    "y2 = np.random.random()\n",
    "y3 = np.random.random()"
   ]
  },
  {
   "cell_type": "code",
   "execution_count": 9,
   "metadata": {},
   "outputs": [
    {
     "data": {
      "text/plain": [
       "0.25356050281639586"
      ]
     },
     "execution_count": 9,
     "metadata": {},
     "output_type": "execute_result"
    }
   ],
   "source": [
    "def scaling(t, y_start , y_end):\n",
    "    return (t-y_start) /( y)"
   ]
  },
  {
   "cell_type": "code",
   "execution_count": 40,
   "metadata": {},
   "outputs": [
    {
     "data": {
      "text/plain": [
       "(26,)"
      ]
     },
     "execution_count": 40,
     "metadata": {},
     "output_type": "execute_result"
    }
   ],
   "source": [
    "toInterpolate = np.array(\"\"\"0.147746791475477\n",
    "0.145725618898722\n",
    "0.167926508130509\n",
    "0.177268060272864\n",
    "0.197012340927395\n",
    "0.227044223931832\n",
    "0.269252441108951\n",
    "0.313797387086626\n",
    "0.36876981923353\n",
    "0.430763013824622\n",
    "0.493645782503431\n",
    "0.555608970826628\n",
    "0.615891648059249\n",
    "0.774252756170992\n",
    "0.941621018748663\n",
    "1.08197939729746\n",
    "1.19571316185062\n",
    "1.28644918450463\n",
    "1.36095355145779\n",
    "1.42533553618151\n",
    "1.48345875523448\n",
    "1.53122771225548\n",
    "1.63741044126821\n",
    "1.73449492200228\n",
    "1.76207544755506\n",
    "1.76672465352458\"\"\".split(\"\\n\"))\n",
    "pillars = toInterpolate.astype(np.float)\n",
    "pillars.shape"
   ]
  },
  {
   "cell_type": "code",
   "execution_count": 44,
   "metadata": {},
   "outputs": [
    {
     "data": {
      "text/plain": [
       "array([     0.,     70.,    160.,    253.,    344.,    441.,    531.,\n",
       "          617.,    715.,    805.,    896.,    988.,   1079.,   1370.,\n",
       "         1734.,   2099.,   2465.,   2830.,   3197.,   3561.,   3926.,\n",
       "         4291.,   5388.,   7215.,   9039.,  10865.])"
      ]
     },
     "execution_count": 44,
     "metadata": {},
     "output_type": "execute_result"
    }
   ],
   "source": [
    "dates = np.array(\"\"\"0\n",
    "70\n",
    "160\n",
    "253\n",
    "344\n",
    "441\n",
    "531\n",
    "617\n",
    "715\n",
    "805\n",
    "896\n",
    "988\n",
    "1079\n",
    "1370\n",
    "1734\n",
    "2099\n",
    "2465\n",
    "2830\n",
    "3197\n",
    "3561\n",
    "3926\n",
    "4291\n",
    "5388\n",
    "7215\n",
    "9039\n",
    "10865\"\"\".split(\"\\n\"))\n",
    "dates = dates.astype(np.float)\n",
    "dates"
   ]
  },
  {
   "cell_type": "code",
   "execution_count": 45,
   "metadata": {},
   "outputs": [
    {
     "data": {
      "image/png": "[encoded data removed]",
      "text/plain": [
       "<matplotlib.figure.Figure at 0x25199d0e748>"
      ]
     },
     "metadata": {},
     "output_type": "display_data"
    }
   ],
   "source": [
    "cs = CubicSpline(dates, toInterpolate)\n",
    "xs = np.arange(0, 11000, 10)\n",
    "fig, ax = plt.subplots(figsize=(6.5, 4))\n",
    "ax.plot(dates, toInterpolate, 'o', label='data')\n",
    "ax.plot(xs, cs(xs), label=\"S\")\n",
    "ax.set_xlim(-1000, 12000)\n",
    "ax.legend(loc='lower left', ncol=2)\n",
    "plt.show()"
   ]
  }
 ],
 "metadata": {
  "kernelspec": {
   "display_name": "Python 3",
   "language": "python",
   "name": "python3"
  },
  "language_info": {
   "codemirror_mode": {
    "name": "ipython",
    "version": 3
   },
   "file_extension": ".py",
   "mimetype": "text/x-python",
   "name": "python",
   "nbconvert_exporter": "python",
   "pygments_lexer": "ipython3",
   "version": "3.6.1"
  }
 },
 "nbformat": 4,
 "nbformat_minor": 2
}

{
  "nbformat": 4,
  "nbformat_minor": 0,
  "metadata": {
    "colab": {
      "name": "Cubic Spline.ipynb",
      "provenance": [],
      "authorship_tag": "ABX9TyNtpvjRBgT5grWu8twbZbti",
      "include_colab_link": true
    },
    "kernelspec": {
      "name": "python3",
      "display_name": "Python 3"
    },
    "language_info": {
      "name": "python"
    }
  },
  "cells": [
    {
      "cell_type": "markdown",
      "metadata": {
        "id": "view-in-github",
        "colab_type": "text"
      },
      "source": [
        "<a href=\"https://colab.research.google.com/github/LadaEven/Splines/blob/main/Cubic_Spline.ipynb\" target=\"_parent\"><img src=\"https://colab.research.google.com/assets/colab-badge.svg\" alt=\"Open In Colab\"/></a>"
      ]
    },
    {
      "cell_type": "code",
      "metadata": {
        "id": "6EP0weyiXcwA"
      },
      "source": [
        "import numpy as np"
      ],
      "execution_count": 10,
      "outputs": []
    },
    {
      "cell_type": "code",
      "metadata": {
        "id": "equ1Bt2pZP1K"
      },
      "source": [
        "pillars_amt = 10"
      ],
      "execution_count": 15,
      "outputs": []
    },
    {
      "cell_type": "code",
      "metadata": {
        "id": "AsmreNcaYUqg"
      },
      "source": [
        "interpolate_data = np.random.random_sample(pillars_amt)"
      ],
      "execution_count": 16,
      "outputs": []
    },
    {
      "cell_type": "code",
      "metadata": {
        "colab": {
          "base_uri": "https://localhost:8080/",
          "height": 269
        },
        "id": "lTGcAJ7Bxuvg",
        "outputId": "26d8eb05-c40d-48d7-def3-fde3549b7b0b"
      },
      "source": [
        "# https://docs.scipy.org/doc/scipy/reference/generated/scipy.interpolate.CubicSpline.html\n",
        "\n",
        "from scipy.interpolate import CubicSpline\n",
        "import matplotlib.pyplot as plt\n",
        "x = np.arange(10)\n",
        "cs = CubicSpline(x, interpolate_data)\n",
        "xs = np.arange(-0.5, 9.6, 0.1)\n",
        "fig, ax = plt.subplots(figsize=(6.5, 4))\n",
        "ax.plot(x, interpolate_data, 'o', label='data')\n",
        "ax.plot(xs, cs(xs), label=\"S\")\n",
        "ax.set_xlim(-0.5, 9.5)\n",
        "ax.legend(loc='lower left', ncol=2)\n",
        "plt.show()"
      ],
      "execution_count": 17,
      "outputs": [
        {
          "output_type": "display_data",
          "data": {
            "image/png": "[encoded data removed]",
            "text/plain": [
              "<Figure size 468x288 with 1 Axes>"
            ]
          },
          "metadata": {
            "tags": [],
            "needs_background": "light"
          }
        }
      ]
    },
    {
      "cell_type": "markdown",
      "metadata": {
        "id": "B8Bo8B5OzrK2"
      },
      "source": [
        "Задачи:\n",
        "1. Разобраться в реализации в scipy\n",
        "2. Извлечь из модели scipy коэффициенты полиномов\n",
        "3. Построить промежуточные значения с шагом в 0.1\n",
        "4. Реализовать код самостоятельно"
      ]
    },
    {
      "cell_type": "code",
      "metadata": {
        "id": "CZ6OZu0RYojn"
      },
      "source": [
        "poly_coefficients =  np.zeros((pillars_amt -1 , 4))"
      ],
      "execution_count": 6,
      "outputs": []
    },
    {
      "cell_type": "code",
      "metadata": {
        "colab": {
          "base_uri": "https://localhost:8080/"
        },
        "id": "sVnpKQxEZPOP",
        "outputId": "4049640d-bcb4-4892-8d56-73961cde63ca"
      },
      "source": [
        "poly_coefficients"
      ],
      "execution_count": 7,
      "outputs": [
        {
          "output_type": "execute_result",
          "data": {
            "text/plain": [
              "array([[0., 0., 0., 0.],\n",
              "       [0., 0., 0., 0.],\n",
              "       [0., 0., 0., 0.],\n",
              "       [0., 0., 0., 0.]])"
            ]
          },
          "metadata": {
            "tags": []
          },
          "execution_count": 7
        }
      ]
    }
  ]
}